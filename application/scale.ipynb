{
 "cells": [
  {
   "cell_type": "code",
   "execution_count": 1,
   "metadata": {},
   "outputs": [
    {
     "name": "stderr",
     "output_type": "stream",
     "text": [
      "100%|██████████| 3555/3555 [00:32<00:00, 109.24it/s]\n"
     ]
    },
    {
     "name": "stdout",
     "output_type": "stream",
     "text": [
      "KITTI\n",
      "min_depth=2.380514705882353, max_depth=100.0, mean_depth=20.14168251868549, std_depth=14.821002445275797\n"
     ]
    }
   ],
   "source": [
    "# %%\n",
    "import glob\n",
    "import numpy as np\n",
    "from PIL import Image\n",
    "from tqdm import tqdm\n",
    "from concurrent.futures import ThreadPoolExecutor, as_completed\n",
    "\n",
    "def depth_read(filename):\n",
    "    depth_png = np.array(Image.open(filename), dtype=int)\n",
    "    assert(np.max(depth_png) > 255)\n",
    "    depth = depth_png.astype(float) / 256.  # 或者使用 np.float64\n",
    "    depth[depth_png == 0] = -1.\n",
    "    return depth\n",
    "\n",
    "def process_file(file_path):\n",
    "    try:\n",
    "        depth = depth_read(file_path)\n",
    "        return depth[depth != -1].flatten()\n",
    "    except AssertionError:\n",
    "        return []\n",
    "\n",
    "# Set the directory path\n",
    "directory_path = '/data1/Chenbingyuan/Depth-Completion/g2_dataset/scale/train'\n",
    "pattern = f\"{directory_path}/**/*groundtruth/image_02/**/*.png\"\n",
    "file_paths = glob.glob(pattern, recursive=True)\n",
    "\n",
    "depth_values = []\n",
    "\n",
    "with ThreadPoolExecutor() as executor:\n",
    "    futures = [executor.submit(process_file, file_path) for file_path in file_paths]\n",
    "    for future in tqdm(as_completed(futures), total=len(futures)):\n",
    "        depth_values.extend(future.result())\n",
    "\n",
    "depth_values_np = np.array(depth_values) /85. * 100.\n",
    "depth_values_np = np.clip(depth_values_np, 0, 100)\n",
    "if depth_values_np.size > 0:\n",
    "    min_depth = np.min(depth_values_np)\n",
    "    max_depth = np.max(depth_values_np)\n",
    "    mean_depth = np.mean(depth_values_np)\n",
    "    std_depth = np.std(depth_values_np)\n",
    "else:\n",
    "    min_depth, max_depth, mean_depth, std_depth = (None, None, None, None)\n",
    "print('KITTI')\n",
    "print(f'min_depth={min_depth}, max_depth={max_depth}, mean_depth={mean_depth}, std_depth={std_depth}')\n",
    "\n",
    "\n",
    "# %%\n",
    "\n",
    "\n",
    "\n"
   ]
  },
  {
   "cell_type": "code",
   "execution_count": 7,
   "metadata": {},
   "outputs": [
    {
     "name": "stderr",
     "output_type": "stream",
     "text": [
      "100%|██████████| 200/200 [00:02<00:00, 80.34it/s]\n"
     ]
    },
    {
     "name": "stdout",
     "output_type": "stream",
     "text": [
      "dataset=nyu  mean_depth=27.35395622253418\n"
     ]
    },
    {
     "name": "stderr",
     "output_type": "stream",
     "text": [
      "100%|██████████| 510/510 [00:06<00:00, 74.91it/s] \n"
     ]
    },
    {
     "name": "stdout",
     "output_type": "stream",
     "text": [
      "dataset=redweb  mean_depth=62.728607177734375\n"
     ]
    },
    {
     "name": "stderr",
     "output_type": "stream",
     "text": [
      "100%|██████████| 908/908 [00:02<00:00, 367.62it/s]\n"
     ]
    },
    {
     "name": "stdout",
     "output_type": "stream",
     "text": [
      "dataset=ETH3D  mean_depth=3.553238868713379\n"
     ]
    },
    {
     "name": "stderr",
     "output_type": "stream",
     "text": [
      "100%|██████████| 200/200 [00:01<00:00, 125.81it/s]\n"
     ]
    },
    {
     "name": "stdout",
     "output_type": "stream",
     "text": [
      "dataset=Ibims  mean_depth=6.361328601837158\n"
     ]
    },
    {
     "name": "stderr",
     "output_type": "stream",
     "text": [
      "100%|██████████| 894/894 [00:12<00:00, 73.21it/s] \n"
     ]
    },
    {
     "name": "stdout",
     "output_type": "stream",
     "text": [
      "dataset=VKITTI  mean_depth=17.471233367919922\n"
     ]
    },
    {
     "name": "stderr",
     "output_type": "stream",
     "text": [
      "100%|██████████| 3814/3814 [00:27<00:00, 138.02it/s]\n"
     ]
    },
    {
     "name": "stdout",
     "output_type": "stream",
     "text": [
      "dataset=Matterport3D  mean_depth=6.4739460945129395\n"
     ]
    },
    {
     "name": "stderr",
     "output_type": "stream",
     "text": [
      "100%|██████████| 2000/2000 [00:18<00:00, 110.59it/s]\n"
     ]
    },
    {
     "name": "stdout",
     "output_type": "stream",
     "text": [
      "dataset=UnrealCV  mean_depth=7.2951741218566895\n"
     ]
    }
   ],
   "source": [
    "# %%\n",
    "import glob\n",
    "import numpy as np\n",
    "from PIL import Image\n",
    "from tqdm import tqdm\n",
    "from concurrent.futures import ThreadPoolExecutor, as_completed\n",
    "\n",
    "DATASET_LIST =  ['nyu', 'redweb','ETH3D','Ibims', 'VKITTI', 'Matterport3D', 'UnrealCV']\n",
    "\n",
    "def depth_read(filename):\n",
    "    # Read Depth and converts to 0-1\n",
    "    str_file = str(filename)\n",
    "    if '.png' in str_file:\n",
    "        data = Image.open(filename)\n",
    "        \n",
    "        if 'DIODE' in str_file:\n",
    "            if '_indoors_' in str_file:\n",
    "                depth = (np.array(data) / 20.).astype(np.float32)\n",
    "            elif '_outdoor_' in str_file:\n",
    "                depth = (np.array(data) / 100.).astype(np.float32)\n",
    "            depth = np.clip(depth, 0, 1)\n",
    "        elif 'HRWSI' in str_file:\n",
    "            depth = (np.array(data) / 255.).astype(np.float32)\n",
    "            depth = np.clip(depth, 0, 1)\n",
    "        elif 'redweb' in str_file:\n",
    "            depth = (np.array(data) / 255.).astype(np.float32)\n",
    "            depth = np.clip(depth, 0, 1)\n",
    "        elif 'NYU' in str_file:\n",
    "            depth = (np.array(data) / 255.).astype(np.float32)\n",
    "            depth = np.clip(depth, 0, 1)\n",
    "        else:\n",
    "            depth = (np.array(data)/ 65535.).astype(np.float32)\n",
    "            depth = np.clip(depth, 0, 1)\n",
    "        data.close()\n",
    "    return depth\n",
    "\n",
    "def process_file(file_path):\n",
    "    try:\n",
    "        depth = depth_read(file_path)\n",
    "        return depth[depth != 0].flatten()\n",
    "    except AssertionError:\n",
    "        return []\n",
    "for dataset in DATASET_LIST:\n",
    "    # Set the directory path\n",
    "    directory_path = '/data1/Chenbingyuan/Depth-Completion/g2_dataset/' + dataset + '/val/' + dataset + '_gt'\n",
    "    if dataset == 'nyu':\n",
    "        directory_path = '/data1/Chenbingyuan/Depth-Completion/g2_dataset/nyu/val/NYUv2_gt'\n",
    "    pattern = f\"{directory_path}/*.png\"\n",
    "    file_paths = glob.glob(pattern, recursive=True)\n",
    "\n",
    "    depth_values = []\n",
    "\n",
    "    with ThreadPoolExecutor() as executor:\n",
    "        futures = [executor.submit(process_file, file_path) for file_path in file_paths]\n",
    "        for future in tqdm(as_completed(futures), total=len(futures)):\n",
    "            depth_values.extend(future.result())\n",
    "\n",
    "    depth_values_np = np.array(depth_values) * 100.\n",
    "    depth_values_np = np.clip(depth_values_np, 0, 100)\n",
    "\n",
    "    if depth_values_np.size > 0:\n",
    "        min_depth = np.min(depth_values_np) \n",
    "        max_depth = np.max(depth_values_np)\n",
    "        mean_depth = np.mean(depth_values_np)\n",
    "        std_depth = np.std(depth_values_np)\n",
    "    else:\n",
    "        min_depth, max_depth, mean_depth, std_depth = (None, None, None, None)\n",
    "    print(f'dataset={dataset}  mean_depth={mean_depth}')\n",
    "\n",
    "\n",
    "    # %%\n",
    "\n",
    "\n",
    "\n"
   ]
  },
  {
   "cell_type": "code",
   "execution_count": 16,
   "metadata": {},
   "outputs": [
    {
     "name": "stderr",
     "output_type": "stream",
     "text": [
      "100%|██████████| 100/100 [00:00<00:00, 163.48it/s]\n"
     ]
    },
    {
     "name": "stdout",
     "output_type": "stream",
     "text": [
      "dataset=nyu method=sfv2_DIODE_HRWSI  mean_depth=29.67812156677246\n"
     ]
    },
    {
     "name": "stderr",
     "output_type": "stream",
     "text": [
      "100%|██████████| 255/255 [00:01<00:00, 136.33it/s]\n"
     ]
    },
    {
     "name": "stdout",
     "output_type": "stream",
     "text": [
      "dataset=redweb method=sfv2_DIODE_HRWSI  mean_depth=62.157772064208984\n"
     ]
    },
    {
     "name": "stderr",
     "output_type": "stream",
     "text": [
      "100%|██████████| 454/454 [00:03<00:00, 135.69it/s]\n"
     ]
    },
    {
     "name": "stdout",
     "output_type": "stream",
     "text": [
      "dataset=ETH3D method=sfv2_DIODE_HRWSI  mean_depth=21.056039810180664\n"
     ]
    },
    {
     "name": "stderr",
     "output_type": "stream",
     "text": [
      "100%|██████████| 100/100 [00:00<00:00, 141.82it/s]\n"
     ]
    },
    {
     "name": "stdout",
     "output_type": "stream",
     "text": [
      "dataset=Ibims method=sfv2_DIODE_HRWSI  mean_depth=11.811098098754883\n"
     ]
    },
    {
     "name": "stderr",
     "output_type": "stream",
     "text": [
      "100%|██████████| 447/447 [00:03<00:00, 132.53it/s]\n"
     ]
    },
    {
     "name": "stdout",
     "output_type": "stream",
     "text": [
      "dataset=VKITTI method=sfv2_DIODE_HRWSI  mean_depth=24.505014419555664\n"
     ]
    },
    {
     "name": "stderr",
     "output_type": "stream",
     "text": [
      "100%|██████████| 1907/1907 [00:13<00:00, 136.45it/s]\n"
     ]
    },
    {
     "name": "stdout",
     "output_type": "stream",
     "text": [
      "dataset=Matterport3D method=sfv2_DIODE_HRWSI  mean_depth=12.597845077514648\n"
     ]
    },
    {
     "name": "stderr",
     "output_type": "stream",
     "text": [
      "100%|██████████| 1000/1000 [00:08<00:00, 120.86it/s]\n"
     ]
    },
    {
     "name": "stdout",
     "output_type": "stream",
     "text": [
      "dataset=UnrealCV method=sfv2_DIODE_HRWSI  mean_depth=12.91417121887207\n"
     ]
    },
    {
     "name": "stderr",
     "output_type": "stream",
     "text": [
      "100%|██████████| 100/100 [00:00<00:00, 572.85it/s]\n"
     ]
    },
    {
     "name": "stdout",
     "output_type": "stream",
     "text": [
      "dataset=nyu method=LRRU  mean_depth=2.392515182495117\n"
     ]
    },
    {
     "name": "stderr",
     "output_type": "stream",
     "text": [
      "100%|██████████| 255/255 [00:00<00:00, 402.54it/s]\n"
     ]
    },
    {
     "name": "stdout",
     "output_type": "stream",
     "text": [
      "dataset=redweb method=LRRU  mean_depth=2.4953997135162354\n"
     ]
    },
    {
     "name": "stderr",
     "output_type": "stream",
     "text": [
      "100%|██████████| 454/454 [00:00<00:00, 813.46it/s] \n"
     ]
    },
    {
     "name": "stdout",
     "output_type": "stream",
     "text": [
      "dataset=ETH3D method=LRRU  mean_depth=0.8364438414573669\n"
     ]
    },
    {
     "name": "stderr",
     "output_type": "stream",
     "text": [
      "100%|██████████| 100/100 [00:00<00:00, 1209.42it/s]\n"
     ]
    },
    {
     "name": "stdout",
     "output_type": "stream",
     "text": [
      "dataset=Ibims method=LRRU  mean_depth=1.2639691829681396\n"
     ]
    },
    {
     "name": "stderr",
     "output_type": "stream",
     "text": [
      "100%|██████████| 447/447 [00:00<00:00, 591.86it/s]\n"
     ]
    },
    {
     "name": "stdout",
     "output_type": "stream",
     "text": [
      "dataset=VKITTI method=LRRU  mean_depth=2.23785662651062\n"
     ]
    },
    {
     "name": "stderr",
     "output_type": "stream",
     "text": [
      "100%|██████████| 1907/1907 [00:02<00:00, 823.02it/s]\n"
     ]
    },
    {
     "name": "stdout",
     "output_type": "stream",
     "text": [
      "dataset=Matterport3D method=LRRU  mean_depth=1.108298659324646\n"
     ]
    },
    {
     "name": "stderr",
     "output_type": "stream",
     "text": [
      "100%|██████████| 1000/1000 [00:01<00:00, 656.80it/s]\n"
     ]
    },
    {
     "name": "stdout",
     "output_type": "stream",
     "text": [
      "dataset=UnrealCV method=LRRU  mean_depth=1.4643157720565796\n"
     ]
    }
   ],
   "source": [
    "# 将point有值的地方不纳入尺度计算。\n",
    "import glob\n",
    "import numpy as np\n",
    "from PIL import Image\n",
    "from tqdm import tqdm\n",
    "from concurrent.futures import ThreadPoolExecutor, as_completed\n",
    "\n",
    "\n",
    "\n",
    "DATASET_LIST =  ['nyu', 'redweb','ETH3D','Ibims', 'VKITTI', 'Matterport3D', 'UnrealCV']\n",
    "method_list = ['sfv2_DIODE_HRWSI', 'LRRU']\n",
    "point = '0.001'\n",
    "\n",
    "def process_file(file_path,method,point):\n",
    "    point_path = file_path.replace('result/rz_sb_mar_'+method, 'point/point')\n",
    "    # print(point_path)\n",
    "    try:\n",
    "        depth_array = np.array(Image.open(file_path)).astype(np.float32)\n",
    "        point_array = np.array(Image.open(point_path)).astype(np.float32)\n",
    "        depth = np.clip(depth_array.astype(np.float32), 0.0, 255.0) / 255.\n",
    "        depth[point_array!=0] = 0\n",
    "        return depth[depth != 0].flatten()\n",
    "    except AssertionError:\n",
    "        return []\n",
    "for method in method_list:\n",
    "    \n",
    "    for dataset in DATASET_LIST:\n",
    "        png_dir = '/data1/Chenbingyuan/Depth-Completion/g2_dataset/' + dataset + '/result/rz_sb_mar_' + method + '_'+ point + '/' + dataset +'_gt/'\n",
    "        if dataset =='nyu':\n",
    "            png_dir = '/data1/Chenbingyuan/Depth-Completion/g2_dataset/' + dataset + '/result/rz_sb_mar_' + method + '_'+ point + '/' + 'NYUv2' +'_gt/'\n",
    "        png_files = glob.glob(png_dir + '/**.png', recursive=True)\n",
    "        depth_values = []\n",
    "\n",
    "        with ThreadPoolExecutor() as executor:\n",
    "            futures = [executor.submit(process_file, file_path, method, point) for file_path in png_files]\n",
    "            for future in tqdm(as_completed(futures), total=len(futures)):\n",
    "                depth_values.extend(future.result())\n",
    "        \n",
    "        depth_values_np = np.array(depth_values) * 100.\n",
    "        depth_values_np = np.clip(depth_values_np, 0, 100)\n",
    "\n",
    "        if depth_values_np.size > 0:\n",
    "            min_depth = np.min(depth_values_np) \n",
    "            max_depth = np.max(depth_values_np)\n",
    "            mean_depth = np.mean(depth_values_np)\n",
    "            std_depth = np.std(depth_values_np)\n",
    "        else:\n",
    "            min_depth, max_depth, mean_depth, std_depth = (None, None, None, None)\n",
    "        \n",
    "\n",
    "        print(f'dataset={dataset} method={method}  mean_depth={mean_depth}')\n",
    "\n",
    "\n"
   ]
  },
  {
   "cell_type": "code",
   "execution_count": 15,
   "metadata": {},
   "outputs": [
    {
     "name": "stderr",
     "output_type": "stream",
     "text": [
      "100%|██████████| 100/100 [00:00<00:00, 129.19it/s]\n"
     ]
    },
    {
     "name": "stdout",
     "output_type": "stream",
     "text": [
      "dataset=nyu method=CFormer_KITTI  mean_depth=28.287559509277344\n"
     ]
    },
    {
     "name": "stderr",
     "output_type": "stream",
     "text": [
      "100%|██████████| 255/255 [00:01<00:00, 136.68it/s]\n"
     ]
    },
    {
     "name": "stdout",
     "output_type": "stream",
     "text": [
      "dataset=redweb method=CFormer_KITTI  mean_depth=59.719417572021484\n"
     ]
    },
    {
     "name": "stderr",
     "output_type": "stream",
     "text": [
      "100%|██████████| 454/454 [00:03<00:00, 137.42it/s]\n"
     ]
    },
    {
     "name": "stdout",
     "output_type": "stream",
     "text": [
      "dataset=ETH3D method=CFormer_KITTI  mean_depth=18.3392276763916\n"
     ]
    },
    {
     "name": "stderr",
     "output_type": "stream",
     "text": [
      "100%|██████████| 100/100 [00:00<00:00, 135.82it/s]\n"
     ]
    },
    {
     "name": "stdout",
     "output_type": "stream",
     "text": [
      "dataset=Ibims method=CFormer_KITTI  mean_depth=12.000456809997559\n"
     ]
    },
    {
     "name": "stderr",
     "output_type": "stream",
     "text": [
      "100%|██████████| 447/447 [00:03<00:00, 128.75it/s]\n"
     ]
    },
    {
     "name": "stdout",
     "output_type": "stream",
     "text": [
      "dataset=VKITTI method=CFormer_KITTI  mean_depth=27.716014862060547\n"
     ]
    },
    {
     "name": "stderr",
     "output_type": "stream",
     "text": [
      "100%|██████████| 1907/1907 [00:15<00:00, 126.33it/s]\n"
     ]
    },
    {
     "name": "stdout",
     "output_type": "stream",
     "text": [
      "dataset=Matterport3D method=CFormer_KITTI  mean_depth=12.996095657348633\n"
     ]
    },
    {
     "name": "stderr",
     "output_type": "stream",
     "text": [
      "100%|██████████| 1000/1000 [00:07<00:00, 130.06it/s]\n"
     ]
    },
    {
     "name": "stdout",
     "output_type": "stream",
     "text": [
      "dataset=UnrealCV method=CFormer_KITTI  mean_depth=15.884867668151855\n"
     ]
    },
    {
     "name": "stderr",
     "output_type": "stream",
     "text": [
      "100%|██████████| 100/100 [00:00<00:00, 123.67it/s]\n"
     ]
    },
    {
     "name": "stdout",
     "output_type": "stream",
     "text": [
      "dataset=nyu method=PEnet  mean_depth=12.393424987792969\n"
     ]
    },
    {
     "name": "stderr",
     "output_type": "stream",
     "text": [
      "100%|██████████| 255/255 [00:02<00:00, 127.15it/s]\n"
     ]
    },
    {
     "name": "stdout",
     "output_type": "stream",
     "text": [
      "dataset=redweb method=PEnet  mean_depth=41.105186462402344\n"
     ]
    },
    {
     "name": "stderr",
     "output_type": "stream",
     "text": [
      "100%|██████████| 454/454 [00:03<00:00, 129.18it/s]\n"
     ]
    },
    {
     "name": "stdout",
     "output_type": "stream",
     "text": [
      "dataset=ETH3D method=PEnet  mean_depth=5.7614665031433105\n"
     ]
    },
    {
     "name": "stderr",
     "output_type": "stream",
     "text": [
      "100%|██████████| 100/100 [00:00<00:00, 121.50it/s]\n"
     ]
    },
    {
     "name": "stdout",
     "output_type": "stream",
     "text": [
      "dataset=Ibims method=PEnet  mean_depth=6.185070991516113\n"
     ]
    },
    {
     "name": "stderr",
     "output_type": "stream",
     "text": [
      "100%|██████████| 447/447 [00:03<00:00, 128.52it/s]\n"
     ]
    },
    {
     "name": "stdout",
     "output_type": "stream",
     "text": [
      "dataset=VKITTI method=PEnet  mean_depth=13.880345344543457\n"
     ]
    },
    {
     "name": "stderr",
     "output_type": "stream",
     "text": [
      "100%|██████████| 1907/1907 [00:15<00:00, 125.02it/s]\n"
     ]
    },
    {
     "name": "stdout",
     "output_type": "stream",
     "text": [
      "dataset=Matterport3D method=PEnet  mean_depth=6.297924041748047\n"
     ]
    },
    {
     "name": "stderr",
     "output_type": "stream",
     "text": [
      "100%|██████████| 1000/1000 [00:07<00:00, 125.19it/s]\n"
     ]
    },
    {
     "name": "stdout",
     "output_type": "stream",
     "text": [
      "dataset=UnrealCV method=PEnet  mean_depth=7.015462875366211\n"
     ]
    },
    {
     "name": "stderr",
     "output_type": "stream",
     "text": [
      "100%|██████████| 100/100 [00:00<00:00, 126.84it/s]\n"
     ]
    },
    {
     "name": "stdout",
     "output_type": "stream",
     "text": [
      "dataset=nyu method=g2_DIODE_HRWSI  mean_depth=29.528491973876953\n"
     ]
    },
    {
     "name": "stderr",
     "output_type": "stream",
     "text": [
      "100%|██████████| 255/255 [00:02<00:00, 126.07it/s]\n"
     ]
    },
    {
     "name": "stdout",
     "output_type": "stream",
     "text": [
      "dataset=redweb method=g2_DIODE_HRWSI  mean_depth=61.981624603271484\n"
     ]
    },
    {
     "name": "stderr",
     "output_type": "stream",
     "text": [
      "100%|██████████| 454/454 [00:03<00:00, 127.30it/s]\n"
     ]
    },
    {
     "name": "stdout",
     "output_type": "stream",
     "text": [
      "dataset=ETH3D method=g2_DIODE_HRWSI  mean_depth=13.15828800201416\n"
     ]
    },
    {
     "name": "stderr",
     "output_type": "stream",
     "text": [
      "100%|██████████| 100/100 [00:00<00:00, 128.91it/s]\n"
     ]
    },
    {
     "name": "stdout",
     "output_type": "stream",
     "text": [
      "dataset=Ibims method=g2_DIODE_HRWSI  mean_depth=11.234882354736328\n"
     ]
    },
    {
     "name": "stderr",
     "output_type": "stream",
     "text": [
      "100%|██████████| 447/447 [00:03<00:00, 129.53it/s]\n"
     ]
    },
    {
     "name": "stdout",
     "output_type": "stream",
     "text": [
      "dataset=VKITTI method=g2_DIODE_HRWSI  mean_depth=23.01287841796875\n"
     ]
    },
    {
     "name": "stderr",
     "output_type": "stream",
     "text": [
      "100%|██████████| 1907/1907 [00:14<00:00, 127.86it/s]\n"
     ]
    },
    {
     "name": "stdout",
     "output_type": "stream",
     "text": [
      "dataset=Matterport3D method=g2_DIODE_HRWSI  mean_depth=11.755120277404785\n"
     ]
    },
    {
     "name": "stderr",
     "output_type": "stream",
     "text": [
      "100%|██████████| 1000/1000 [00:07<00:00, 135.73it/s]\n"
     ]
    },
    {
     "name": "stdout",
     "output_type": "stream",
     "text": [
      "dataset=UnrealCV method=g2_DIODE_HRWSI  mean_depth=12.678796768188477\n"
     ]
    },
    {
     "name": "stderr",
     "output_type": "stream",
     "text": [
      "100%|██████████| 100/100 [00:00<00:00, 117.63it/s]\n"
     ]
    },
    {
     "name": "stdout",
     "output_type": "stream",
     "text": [
      "dataset=nyu method=CFormer_DIODE_HRWSI  mean_depth=29.000926971435547\n"
     ]
    },
    {
     "name": "stderr",
     "output_type": "stream",
     "text": [
      "100%|██████████| 255/255 [00:01<00:00, 131.57it/s]\n"
     ]
    },
    {
     "name": "stdout",
     "output_type": "stream",
     "text": [
      "dataset=redweb method=CFormer_DIODE_HRWSI  mean_depth=62.63673400878906\n"
     ]
    },
    {
     "name": "stderr",
     "output_type": "stream",
     "text": [
      "100%|██████████| 454/454 [00:03<00:00, 129.14it/s]\n"
     ]
    },
    {
     "name": "stdout",
     "output_type": "stream",
     "text": [
      "dataset=ETH3D method=CFormer_DIODE_HRWSI  mean_depth=46.045814514160156\n"
     ]
    },
    {
     "name": "stderr",
     "output_type": "stream",
     "text": [
      "100%|██████████| 100/100 [00:00<00:00, 111.10it/s]\n"
     ]
    },
    {
     "name": "stdout",
     "output_type": "stream",
     "text": [
      "dataset=Ibims method=CFormer_DIODE_HRWSI  mean_depth=13.745792388916016\n"
     ]
    },
    {
     "name": "stderr",
     "output_type": "stream",
     "text": [
      "100%|██████████| 447/447 [00:03<00:00, 128.14it/s]\n"
     ]
    },
    {
     "name": "stdout",
     "output_type": "stream",
     "text": [
      "dataset=VKITTI method=CFormer_DIODE_HRWSI  mean_depth=24.825681686401367\n"
     ]
    },
    {
     "name": "stderr",
     "output_type": "stream",
     "text": [
      "100%|██████████| 1907/1907 [00:14<00:00, 130.31it/s]\n"
     ]
    },
    {
     "name": "stdout",
     "output_type": "stream",
     "text": [
      "dataset=Matterport3D method=CFormer_DIODE_HRWSI  mean_depth=15.474305152893066\n"
     ]
    },
    {
     "name": "stderr",
     "output_type": "stream",
     "text": [
      "100%|██████████| 1000/1000 [00:07<00:00, 125.90it/s]\n"
     ]
    },
    {
     "name": "stdout",
     "output_type": "stream",
     "text": [
      "dataset=UnrealCV method=CFormer_DIODE_HRWSI  mean_depth=15.304646492004395\n"
     ]
    }
   ],
   "source": [
    "# 将point有值的地方不纳入尺度计算。\n",
    "import glob\n",
    "import numpy as np\n",
    "from PIL import Image\n",
    "from tqdm import tqdm\n",
    "from concurrent.futures import ThreadPoolExecutor, as_completed\n",
    "\n",
    "\n",
    "\n",
    "DATASET_LIST =  ['nyu', 'redweb','ETH3D','Ibims', 'VKITTI', 'Matterport3D', 'UnrealCV']\n",
    "method_list = ['CFormer_KITTI', 'PEnet', 'g2_DIODE_HRWSI', 'CFormer_DIODE_HRWSI' ]\n",
    "point = '0.001'\n",
    "\n",
    "def process_file(file_path,method,point):\n",
    "    point_path = file_path.replace('result/rz_sb_mar_'+method, 'point/point')\n",
    "    # print(point_path)\n",
    "    try:\n",
    "        depth_array = np.array(Image.open(file_path)).astype(np.float32)\n",
    "        point_array = np.array(Image.open(point_path)).astype(np.float32)\n",
    "        depth = np.clip(depth_array.astype(np.float32), 0.0, 255.0) / 255.\n",
    "        depth[point_array!=0] = 0\n",
    "        return depth[depth != 0].flatten()\n",
    "    except AssertionError:\n",
    "        return []\n",
    "for method in method_list:\n",
    "    \n",
    "    for dataset in DATASET_LIST:\n",
    "        png_dir = '/data1/Chenbingyuan/Depth-Completion/g2_dataset/' + dataset + '/result/rz_sb_mar_' + method + '_'+ point + '/' + dataset +'_gt/'\n",
    "        if dataset =='nyu':\n",
    "            png_dir = '/data1/Chenbingyuan/Depth-Completion/g2_dataset/' + dataset + '/result/rz_sb_mar_' + method + '_'+ point + '/' + 'NYUv2' +'_gt/'\n",
    "        png_files = glob.glob(png_dir + '/**.png', recursive=True)\n",
    "        depth_values = []\n",
    "\n",
    "        with ThreadPoolExecutor() as executor:\n",
    "            futures = [executor.submit(process_file, file_path, method, point) for file_path in png_files]\n",
    "            for future in tqdm(as_completed(futures), total=len(futures)):\n",
    "                depth_values.extend(future.result())\n",
    "        \n",
    "        depth_values_np = np.array(depth_values) * 100.\n",
    "        depth_values_np = np.clip(depth_values_np, 0, 100)\n",
    "\n",
    "        if depth_values_np.size > 0:\n",
    "            min_depth = np.min(depth_values_np) \n",
    "            max_depth = np.max(depth_values_np)\n",
    "            mean_depth = np.mean(depth_values_np)\n",
    "            std_depth = np.std(depth_values_np)\n",
    "        else:\n",
    "            min_depth, max_depth, mean_depth, std_depth = (None, None, None, None)\n",
    "        \n",
    "\n",
    "        print(f'dataset={dataset} method={method}  mean_depth={mean_depth}')\n",
    "\n",
    "\n"
   ]
  }
 ],
 "metadata": {
  "kernelspec": {
   "display_name": "completionformer",
   "language": "python",
   "name": "python3"
  },
  "language_info": {
   "codemirror_mode": {
    "name": "ipython",
    "version": 3
   },
   "file_extension": ".py",
   "mimetype": "text/x-python",
   "name": "python",
   "nbconvert_exporter": "python",
   "pygments_lexer": "ipython3",
   "version": "3.8.18"
  }
 },
 "nbformat": 4,
 "nbformat_minor": 2
}
