{
 "cells": [
  {
   "cell_type": "code",
   "execution_count": 14,
   "metadata": {},
   "outputs": [
    {
     "ename": "TypeError",
     "evalue": "pivot() takes 1 positional argument but 2 positional arguments (and 1 keyword-only argument) were given",
     "output_type": "error",
     "traceback": [
      "\u001b[0;31m---------------------------------------------------------------------------\u001b[0m",
      "\u001b[0;31mTypeError\u001b[0m                                 Traceback (most recent call last)",
      "Cell \u001b[0;32mIn[14], line 34\u001b[0m\n\u001b[1;32m     32\u001b[0m plt\u001b[38;5;241m.\u001b[39msubplot(\u001b[38;5;241m2\u001b[39m, \u001b[38;5;241m4\u001b[39m, i)\n\u001b[1;32m     33\u001b[0m absrel_sub \u001b[38;5;241m=\u001b[39m absrel_data[[\u001b[38;5;124m'\u001b[39m\u001b[38;5;124mModel\u001b[39m\u001b[38;5;124m'\u001b[39m, scene]]\n\u001b[0;32m---> 34\u001b[0m \u001b[43mabsrel_sub\u001b[49m\u001b[38;5;241;43m.\u001b[39;49m\u001b[43mpivot\u001b[49m\u001b[43m(\u001b[49m\u001b[38;5;124;43m'\u001b[39;49m\u001b[38;5;124;43mModel\u001b[39;49m\u001b[38;5;124;43m'\u001b[39;49m\u001b[43m,\u001b[49m\u001b[43m \u001b[49m\u001b[43mvalues\u001b[49m\u001b[38;5;241;43m=\u001b[39;49m\u001b[43mscene\u001b[49m\u001b[43m)\u001b[49m\u001b[38;5;241m.\u001b[39mplot(kind\u001b[38;5;241m=\u001b[39m\u001b[38;5;124m'\u001b[39m\u001b[38;5;124mbar\u001b[39m\u001b[38;5;124m'\u001b[39m, ax\u001b[38;5;241m=\u001b[39mplt\u001b[38;5;241m.\u001b[39mgca())\n\u001b[1;32m     35\u001b[0m plt\u001b[38;5;241m.\u001b[39mtitle(\u001b[38;5;124mf\u001b[39m\u001b[38;5;124m'\u001b[39m\u001b[38;5;124mAbsRel: \u001b[39m\u001b[38;5;132;01m{\u001b[39;00mscene\u001b[38;5;132;01m}\u001b[39;00m\u001b[38;5;124m'\u001b[39m)\n\u001b[1;32m     36\u001b[0m plt\u001b[38;5;241m.\u001b[39mylabel(\u001b[38;5;124m'\u001b[39m\u001b[38;5;124mAbsRel\u001b[39m\u001b[38;5;124m'\u001b[39m)\n",
      "\u001b[0;31mTypeError\u001b[0m: pivot() takes 1 positional argument but 2 positional arguments (and 1 keyword-only argument) were given"
     ]
    },
    {
     "data": {
      "image/png": "[encoded data removed]",
      "text/plain": [
       "<Figure size 1400x800 with 1 Axes>"
      ]
     },
     "metadata": {},
     "output_type": "display_data"
    }
   ],
   "source": [
    "import matplotlib.pyplot as plt\n",
    "import numpy as np\n",
    "import pandas as pd\n",
    "\n",
    "# 数据\n",
    "data = {\n",
    "    'Dataset': ['KITTI', 'DIODE_HRWSI']*4,\n",
    "    'Metric': ['AbsRel', 'AbsRel', 'RMSE', 'RMSE']*2,\n",
    "    'Model': ['Cformer_KITTI', 'Cformer_DIODE_HRWSI', 'Cformer_KITTI', 'Cformer_DIODE_HRWSI', \n",
    "              'Ours_KITTI', 'Ours_DIODE_HRWSI', 'Ours_KITTI', 'Ours_DIODE_HRWSI'],\n",
    "    'nyu': [0.061, 0.204, 7.36, 21.27, 0.817, 0.018, 67.12, 1.77],\n",
    "    'redweb': [0.132, 0.590, 22.12, 50.55, 0.817, 0.019, 142.37, 3.26],\n",
    "    'eth3d': [0.884, 1.620, 6.54, 16.59, 0.861, 0.211, 14.90, 2.44],\n",
    "    'Ibims': [0.120, 0.220, 4.25, 7.86, 0.755, 0.063, 24.12, 1.92],\n",
    "    'VKITTI': [0.353, 1.227, 28.58, 73.81, 0.817, 0.121, 89.80, 13.08],\n",
    "    'MatterPort3d': [0.109, 0.287, 3.93, 10.12, 0.778, 0.054, 26.40, 1.52],\n",
    "    'UnrealCV': [0.247, 0.567, 12.46, 24.05, 0.774, 0.115, 37.12, 6.05]\n",
    "}\n",
    "\n",
    "# 转换为DataFrame\n",
    "df = pd.DataFrame(data)\n",
    "\n",
    "# 数据预处理，分割AbsRel和RMSE\n",
    "absrel_data = df[df['Metric'] == 'AbsRel']\n",
    "rmse_data = df[df['Metric'] == 'RMSE']\n",
    "\n",
    "# 设置柱状图的大小\n",
    "plt.figure(figsize=(14, 8))\n",
    "\n",
    "# 绘制AbsRel比较图\n",
    "for i, scene in enumerate(['nyu', 'redweb', 'eth3d', 'Ibims', 'VKITTI', 'MatterPort3d', 'UnrealCV'], start=1):\n",
    "    plt.subplot(2, 4, i)\n",
    "    absrel_sub = absrel_data[['Model', scene]]\n",
    "    absrel_sub.pivot('Model', values=scene).plot(kind='bar', ax=plt.gca())\n",
    "    plt.title(f'AbsRel: {scene}')\n",
    "    plt.ylabel('AbsRel')\n",
    "    plt.xlabel('')\n",
    "    plt.xticks(rotation=45)\n",
    "    plt.tight_layout()\n",
    "\n",
    "# 显示图表\n",
    "plt.show()\n"
   ]
  },
  {
   "cell_type": "code",
   "execution_count": null,
   "metadata": {},
   "outputs": [],
   "source": []
  }
 ],
 "metadata": {
  "kernelspec": {
   "display_name": "cby_torch_2_1",
   "language": "python",
   "name": "python3"
  },
  "language_info": {
   "codemirror_mode": {
    "name": "ipython",
    "version": 3
   },
   "file_extension": ".py",
   "mimetype": "text/x-python",
   "name": "python",
   "nbconvert_exporter": "python",
   "pygments_lexer": "ipython3",
   "version": "3.8.18"
  }
 },
 "nbformat": 4,
 "nbformat_minor": 2
}
