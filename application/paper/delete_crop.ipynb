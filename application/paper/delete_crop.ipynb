{
 "cells": [
  {
   "cell_type": "code",
   "execution_count": 1,
   "metadata": {},
   "outputs": [
    {
     "name": "stdout",
     "output_type": "stream",
     "text": [
      "Deleted file: /data1/Chenbingyuan/Depth-Completion/application/paper/visual/VKITTI/gt/00011.png\n",
      "Deleted file: /data1/Chenbingyuan/Depth-Completion/application/paper/visual/VKITTI/gt/00002.png\n",
      "Deleted file: /data1/Chenbingyuan/Depth-Completion/application/paper/visual/VKITTI/gt/00004.png\n",
      "Deleted file: /data1/Chenbingyuan/Depth-Completion/application/paper/visual/VKITTI/gt/00003.png\n",
      "Deleted file: /data1/Chenbingyuan/Depth-Completion/application/paper/visual/VKITTI/gt/00013.png\n",
      "Deleted file: /data1/Chenbingyuan/Depth-Completion/application/paper/visual/VKITTI/gt/00001.png\n",
      "Deleted file: /data1/Chenbingyuan/Depth-Completion/application/paper/visual/VKITTI/gt/00005.png\n",
      "Deleted file: /data1/Chenbingyuan/Depth-Completion/application/paper/visual/VKITTI/gt/00006.png\n",
      "Deleted file: /data1/Chenbingyuan/Depth-Completion/application/paper/visual/VKITTI/gt/00015.png\n",
      "Deleted file: /data1/Chenbingyuan/Depth-Completion/application/paper/visual/VKITTI/gt/00008.png\n",
      "Deleted file: /data1/Chenbingyuan/Depth-Completion/application/paper/visual/VKITTI/gt/00009.png\n",
      "Deleted file: /data1/Chenbingyuan/Depth-Completion/application/paper/visual/VKITTI/gt/00007.png\n",
      "Deleted file: /data1/Chenbingyuan/Depth-Completion/application/paper/visual/VKITTI/gt/00000.png\n",
      "Deleted file: /data1/Chenbingyuan/Depth-Completion/application/paper/visual/VKITTI/gt/00010.png\n",
      "Deleted file: /data1/Chenbingyuan/Depth-Completion/application/paper/visual/VKITTI/gt/00014.png\n",
      "Deleted file: /data1/Chenbingyuan/Depth-Completion/application/paper/visual/VKITTI/gt/00012.png\n"
     ]
    }
   ],
   "source": [
    "import os\n",
    "\n",
    "folder_path = \"/data1/Chenbingyuan/Depth-Completion/application/paper/visual/VKITTI/gt\"\n",
    "\n",
    "# 获取目录下所有文件和文件夹的列表\n",
    "files = os.listdir(folder_path)\n",
    "\n",
    "# 遍历文件列表\n",
    "for file in files:\n",
    "    # 检查文件名是否以'crop.png'为结尾\n",
    "    if not file.endswith('crop.png'):\n",
    "        # 构造完整的文件路径\n",
    "        file_path = os.path.join(folder_path, file)\n",
    "        # 删除文件\n",
    "        os.remove(file_path)\n",
    "        print(f\"Deleted file: {file_path}\")\n"
   ]
  },
  {
   "cell_type": "code",
   "execution_count": 3,
   "metadata": {},
   "outputs": [
    {
     "name": "stdout",
     "output_type": "stream",
     "text": [
      "Deleted file: /data1/Chenbingyuan/Depth-Completion/application/paper/visual/VKITTI/rgb/00011.png\n",
      "Deleted file: /data1/Chenbingyuan/Depth-Completion/application/paper/visual/VKITTI/rgb/00002.png\n",
      "Deleted file: /data1/Chenbingyuan/Depth-Completion/application/paper/visual/VKITTI/rgb/00004.png\n",
      "Deleted file: /data1/Chenbingyuan/Depth-Completion/application/paper/visual/VKITTI/rgb/00003.png\n",
      "Deleted file: /data1/Chenbingyuan/Depth-Completion/application/paper/visual/VKITTI/rgb/00013.png\n",
      "Deleted file: /data1/Chenbingyuan/Depth-Completion/application/paper/visual/VKITTI/rgb/00001.png\n",
      "Deleted file: /data1/Chenbingyuan/Depth-Completion/application/paper/visual/VKITTI/rgb/00005.png\n",
      "Deleted file: /data1/Chenbingyuan/Depth-Completion/application/paper/visual/VKITTI/rgb/00006.png\n",
      "Deleted file: /data1/Chenbingyuan/Depth-Completion/application/paper/visual/VKITTI/rgb/00015.png\n",
      "Deleted file: /data1/Chenbingyuan/Depth-Completion/application/paper/visual/VKITTI/rgb/00008.png\n",
      "Deleted file: /data1/Chenbingyuan/Depth-Completion/application/paper/visual/VKITTI/rgb/00009.png\n",
      "Deleted file: /data1/Chenbingyuan/Depth-Completion/application/paper/visual/VKITTI/rgb/00007.png\n",
      "Deleted file: /data1/Chenbingyuan/Depth-Completion/application/paper/visual/VKITTI/rgb/00000.png\n",
      "Deleted file: /data1/Chenbingyuan/Depth-Completion/application/paper/visual/VKITTI/rgb/00016.png\n",
      "Deleted file: /data1/Chenbingyuan/Depth-Completion/application/paper/visual/VKITTI/rgb/00010.png\n",
      "Deleted file: /data1/Chenbingyuan/Depth-Completion/application/paper/visual/VKITTI/rgb/00014.png\n",
      "Deleted file: /data1/Chenbingyuan/Depth-Completion/application/paper/visual/VKITTI/rgb/00012.png\n"
     ]
    }
   ],
   "source": [
    "import os\n",
    "\n",
    "folder_path = \"/data1/Chenbingyuan/Depth-Completion/application/paper/visual/VKITTI/rgb\"\n",
    "\n",
    "# 获取目录下所有文件和文件夹的列表\n",
    "files = os.listdir(folder_path)\n",
    "\n",
    "# 遍历文件列表\n",
    "for file in files:\n",
    "    # 检查文件名是否以'dis.jpg'为结尾\n",
    "    if not file.endswith('dis.png'):\n",
    "        # 构造完整的文件路径\n",
    "        file_path = os.path.join(folder_path, file)\n",
    "        # 删除文件\n",
    "        os.remove(file_path)\n",
    "        print(f\"Deleted file: {file_path}\")\n"
   ]
  }
 ],
 "metadata": {
  "kernelspec": {
   "display_name": "completionformer",
   "language": "python",
   "name": "python3"
  },
  "language_info": {
   "codemirror_mode": {
    "name": "ipython",
    "version": 3
   },
   "file_extension": ".py",
   "mimetype": "text/x-python",
   "name": "python",
   "nbconvert_exporter": "python",
   "pygments_lexer": "ipython3",
   "version": "3.8.18"
  }
 },
 "nbformat": 4,
 "nbformat_minor": 2
}
